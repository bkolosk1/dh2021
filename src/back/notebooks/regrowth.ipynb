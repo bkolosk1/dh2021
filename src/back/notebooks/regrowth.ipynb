{
 "cells": [
  {
   "cell_type": "markdown",
   "metadata": {},
   "source": [
    "# EXPLORATION REFERENCES"
   ]
  },
  {
   "cell_type": "markdown",
   "metadata": {},
   "source": [
    "https://www.epa.gov/energy/greenhouse-gases-equivalencies-calculator-calculations-and-references"
   ]
  },
  {
   "cell_type": "markdown",
   "metadata": {},
   "source": [
    "https://www.nytimes.com/2012/12/04/science/how-many-pounds-of-carbon-dioxide-does-our-forest-absorb.html\n"
   ]
  },
  {
   "cell_type": "markdown",
   "metadata": {},
   "source": [
    "https://www.nytimes.com/2012/12/04/science/how-many-pounds-of-carbon-dioxide-does-our-forest-absorb.html"
   ]
  },
  {
   "cell_type": "code",
   "execution_count": 116,
   "metadata": {},
   "outputs": [],
   "source": [
    "consumed_rates_per_hectar = 0.6"
   ]
  },
  {
   "cell_type": "code",
   "execution_count": 73,
   "metadata": {},
   "outputs": [],
   "source": [
    "import matplotlib.pyplot as plt\n"
   ]
  },
  {
   "cell_type": "code",
   "execution_count": 25,
   "metadata": {},
   "outputs": [],
   "source": [
    "consumed_rates_per_hectar = 130"
   ]
  },
  {
   "cell_type": "code",
   "execution_count": 87,
   "metadata": {},
   "outputs": [],
   "source": [
    "recovery_precs = [0,0.14,0.27,0.38,0.46,0.54,0.61,0.67,0.73,0.79,0.84,0.89,0.92,0.94,0.95,0.96,0.967]"
   ]
  },
  {
   "cell_type": "code",
   "execution_count": 28,
   "metadata": {},
   "outputs": [],
   "source": [
    "import pandas as pd"
   ]
  },
  {
   "cell_type": "code",
   "execution_count": 29,
   "metadata": {},
   "outputs": [],
   "source": [
    "df = pd.read_csv('all_wildfires.csv')"
   ]
  },
  {
   "cell_type": "code",
   "execution_count": 88,
   "metadata": {},
   "outputs": [],
   "source": [
    "def estimate(area):\n",
    "    generated = []\n",
    "    for i in recovery_precs:\n",
    "        generated.append(area*(1-i)*consumed_rates_per_hectar)\n",
    "    return generated"
   ]
  },
  {
   "cell_type": "code",
   "execution_count": 46,
   "metadata": {},
   "outputs": [],
   "source": [
    "xs = []\n",
    "ys = []\n",
    "for area in df[' affected_area']:\n",
    "    x = estimate(area)\n",
    "    xs.append(area)\n",
    "    ys.append(x)"
   ]
  },
  {
   "cell_type": "code",
   "execution_count": 43,
   "metadata": {},
   "outputs": [],
   "source": [
    "import seaborn as sns"
   ]
  },
  {
   "cell_type": "code",
   "execution_count": 64,
   "metadata": {},
   "outputs": [],
   "source": [
    "dfs = pd.DataFrame()"
   ]
  },
  {
   "cell_type": "code",
   "execution_count": 89,
   "metadata": {},
   "outputs": [
    {
     "data": {
      "text/plain": [
       "<Figure size 432x288 with 0 Axes>"
      ]
     },
     "metadata": {},
     "output_type": "display_data"
    }
   ],
   "source": [
    "for i,row in df.iterrows():\n",
    "    name = row['name']\n",
    "    area = row[' affected_area']\n",
    "    y = estimate(area)\n",
    "    dfs[\"Years\"] = list(range(len(y)))\n",
    "    dfs[\"Unconsumed CO2\"] = y\n",
    "    ax = sns.barplot(x=\"Years\", y=\"Unconsumed CO2\", data=dfs, linewidth=2.5, facecolor=(1, 1, 1, 0), errcolor=\".2\", edgecolor=\".2\")    \n",
    "    ax.figure.savefig(\"imgs/recovery/\"+name+\".svg\",dpi = 300)\n",
    "    plt.clf()"
   ]
  },
  {
   "cell_type": "code",
   "execution_count": 111,
   "metadata": {},
   "outputs": [],
   "source": [
    "def compare_per_acre(area):\n",
    "    area = area*consumed_rates_per_hectar\n",
    "    goldfish = 25/1000\n",
    "    cat = 315/1000\n",
    "    dog = 770/1000\n",
    "    large_dog = 2500/1000\n",
    "    vehicle = 4600/1000\n",
    "    return [area,area/goldfish, area/cat, area/dog, area/large_dog, area/vehicle]"
   ]
  },
  {
   "cell_type": "code",
   "execution_count": 112,
   "metadata": {},
   "outputs": [],
   "source": [
    "outz = []\n",
    "for i,row in df.iterrows():\n",
    "    name = row['name']\n",
    "    area = row[' affected_area']\n",
    "    y = [name] + compare_per_acre(area)\n",
    "    outz.append(y)"
   ]
  },
  {
   "cell_type": "code",
   "execution_count": 117,
   "metadata": {},
   "outputs": [],
   "source": [
    "xs = pd.DataFrame(outz)\n",
    "xs.columns = [\"Name\",\"xs\", \"GoldFish\", \"Cat\", \"Dog\", \"Large Dog\", \"Vehicle\"]"
   ]
  },
  {
   "cell_type": "code",
   "execution_count": 114,
   "metadata": {},
   "outputs": [
    {
     "data": {
      "text/html": [
       "<div>\n",
       "<style scoped>\n",
       "    .dataframe tbody tr th:only-of-type {\n",
       "        vertical-align: middle;\n",
       "    }\n",
       "\n",
       "    .dataframe tbody tr th {\n",
       "        vertical-align: top;\n",
       "    }\n",
       "\n",
       "    .dataframe thead th {\n",
       "        text-align: right;\n",
       "    }\n",
       "</style>\n",
       "<table border=\"1\" class=\"dataframe\">\n",
       "  <thead>\n",
       "    <tr style=\"text-align: right;\">\n",
       "      <th></th>\n",
       "      <th>Name</th>\n",
       "      <th>Area</th>\n",
       "      <th>GoldFish</th>\n",
       "      <th>Cat</th>\n",
       "      <th>Dog</th>\n",
       "      <th>Large Dog</th>\n",
       "      <th>Vehicle</th>\n",
       "    </tr>\n",
       "  </thead>\n",
       "  <tbody>\n",
       "    <tr>\n",
       "      <th>0</th>\n",
       "      <td>Camp fire</td>\n",
       "      <td>37231.8</td>\n",
       "      <td>1489272.0</td>\n",
       "      <td>118196.190476</td>\n",
       "      <td>48352.987013</td>\n",
       "      <td>14892.72</td>\n",
       "      <td>8093.869565</td>\n",
       "    </tr>\n",
       "    <tr>\n",
       "      <th>1</th>\n",
       "      <td>Woolsey fire</td>\n",
       "      <td>23540.4</td>\n",
       "      <td>941616.0</td>\n",
       "      <td>74731.428571</td>\n",
       "      <td>30571.948052</td>\n",
       "      <td>9416.16</td>\n",
       "      <td>5117.478261</td>\n",
       "    </tr>\n",
       "    <tr>\n",
       "      <th>2</th>\n",
       "      <td>Lodgepole Complex Fire</td>\n",
       "      <td>66000.0</td>\n",
       "      <td>2640000.0</td>\n",
       "      <td>209523.809524</td>\n",
       "      <td>85714.285714</td>\n",
       "      <td>26400.00</td>\n",
       "      <td>14347.826087</td>\n",
       "    </tr>\n",
       "    <tr>\n",
       "      <th>3</th>\n",
       "      <td>Nelson fires</td>\n",
       "      <td>14400.0</td>\n",
       "      <td>576000.0</td>\n",
       "      <td>45714.285714</td>\n",
       "      <td>18701.298701</td>\n",
       "      <td>5760.00</td>\n",
       "      <td>3130.434783</td>\n",
       "    </tr>\n",
       "    <tr>\n",
       "      <th>4</th>\n",
       "      <td>Carr Fire</td>\n",
       "      <td>55761.6</td>\n",
       "      <td>2230464.0</td>\n",
       "      <td>177020.952381</td>\n",
       "      <td>72417.662338</td>\n",
       "      <td>22304.64</td>\n",
       "      <td>12122.086957</td>\n",
       "    </tr>\n",
       "    <tr>\n",
       "      <th>5</th>\n",
       "      <td>Mendoncino Complex Fire</td>\n",
       "      <td>111.0</td>\n",
       "      <td>4440.0</td>\n",
       "      <td>352.380952</td>\n",
       "      <td>144.155844</td>\n",
       "      <td>44.40</td>\n",
       "      <td>24.130435</td>\n",
       "    </tr>\n",
       "    <tr>\n",
       "      <th>6</th>\n",
       "      <td>Attica Wildfires</td>\n",
       "      <td>27013.8</td>\n",
       "      <td>1080552.0</td>\n",
       "      <td>85758.095238</td>\n",
       "      <td>35082.857143</td>\n",
       "      <td>10805.52</td>\n",
       "      <td>5872.565217</td>\n",
       "    </tr>\n",
       "  </tbody>\n",
       "</table>\n",
       "</div>"
      ],
      "text/plain": [
       "                      Name     Area   GoldFish            Cat           Dog  \\\n",
       "0                Camp fire  37231.8  1489272.0  118196.190476  48352.987013   \n",
       "1             Woolsey fire  23540.4   941616.0   74731.428571  30571.948052   \n",
       "2   Lodgepole Complex Fire  66000.0  2640000.0  209523.809524  85714.285714   \n",
       "3             Nelson fires  14400.0   576000.0   45714.285714  18701.298701   \n",
       "4                Carr Fire  55761.6  2230464.0  177020.952381  72417.662338   \n",
       "5  Mendoncino Complex Fire    111.0     4440.0     352.380952    144.155844   \n",
       "6         Attica Wildfires  27013.8  1080552.0   85758.095238  35082.857143   \n",
       "\n",
       "   Large Dog       Vehicle  \n",
       "0   14892.72   8093.869565  \n",
       "1    9416.16   5117.478261  \n",
       "2   26400.00  14347.826087  \n",
       "3    5760.00   3130.434783  \n",
       "4   22304.64  12122.086957  \n",
       "5      44.40     24.130435  \n",
       "6   10805.52   5872.565217  "
      ]
     },
     "execution_count": 114,
     "metadata": {},
     "output_type": "execute_result"
    }
   ],
   "source": [
    "xs"
   ]
  }
 ],
 "metadata": {
  "kernelspec": {
   "display_name": "Python 3",
   "language": "python",
   "name": "python3"
  },
  "language_info": {
   "codemirror_mode": {
    "name": "ipython",
    "version": 3
   },
   "file_extension": ".py",
   "mimetype": "text/x-python",
   "name": "python",
   "nbconvert_exporter": "python",
   "pygments_lexer": "ipython3",
   "version": "3.8.5"
  }
 },
 "nbformat": 4,
 "nbformat_minor": 4
}
