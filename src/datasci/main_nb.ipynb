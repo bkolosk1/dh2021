{
 "cells": [
  {
   "cell_type": "code",
   "execution_count": 41,
   "metadata": {},
   "outputs": [],
   "source": [
    "import requests\n",
    "from datetime import timezone"
   ]
  },
  {
   "cell_type": "code",
   "execution_count": 44,
   "metadata": {},
   "outputs": [],
   "source": [
    "API_key = '09151e315c3c26589e139f885136cf96'\n",
    "lon = 41.9981\n",
    "lat =  21.4254"
   ]
  },
  {
   "cell_type": "code",
   "execution_count": 17,
   "metadata": {},
   "outputs": [],
   "source": [
    "linkz = f\"http://api.openweathermap.org/data/2.5/air_pollution?lat={lat}&lon={lon}&appid={API_key}\""
   ]
  },
  {
   "cell_type": "markdown",
   "metadata": {},
   "source": [
    "## Get statistic about different chemical values (Emissions API)"
   ]
  },
  {
   "cell_type": "code",
   "execution_count": 11,
   "metadata": {},
   "outputs": [],
   "source": [
    "def get_stats(product, from_,to_,country):\n",
    "    url_namez = f\"https://api.v2.emissions-api.org//api/v2/{product}/statistics.json\"\n",
    "    query = requests.get(url_namez)\n",
    "    return query.json()"
   ]
  },
  {
   "cell_type": "code",
   "execution_count": 12,
   "metadata": {},
   "outputs": [],
   "source": [
    "def get_avgs(product, from_=\"2019-02-01\",to_=\"2021-01-01\",country=\"MK\"):\n",
    "    url_namez = f\"https://api.v2.emissions-api.org/api/v2/{product}/average.json?country={country}&begin={from_}&end={to_}\"\n",
    "    query = requests.get(url_namez)\n",
    "    return query.json()"
   ]
  },
  {
   "cell_type": "code",
   "execution_count": 13,
   "metadata": {},
   "outputs": [
    {
     "name": "stdout",
     "output_type": "stream",
     "text": [
      "methane {'average': 1843.9806138708236, 'end': '2019-05-05T22:46:29.764000Z', 'start': '2019-05-05T17:34:43.042000Z'}\n"
     ]
    }
   ],
   "source": [
    "types = requests.get(\"https://api.v2.emissions-api.org/api/v2/products.json\").json()\n",
    "for t in types:\n",
    "    real_type = t['name']\n",
    "    egs = get_avgs(real_type, from_=\"2019-02-01\",to_=\"2021-01-01\",country=\"US\")\n",
    "    print(real_type,egs[0])\n",
    "    break"
   ]
  },
  {
   "cell_type": "code",
   "execution_count": 42,
   "metadata": {},
   "outputs": [],
   "source": [
    "def get_histrocial(lat,lon,from_,to_):\n",
    "    from_ = datetime.datetime.strptime(from_, '%Y-%m-%d').replace(tzinfo=timezone.utc).timestamp() \n",
    "    to_ = datetime.datetime.strptime(to_, '%Y-%m-%d').replace(tzinfo=timezone.utc).timestamp()\n",
    "    urlz = f'http://api.openweathermap.org/data/2.5/air_pollution/history?lat={lat}&lon={lon}&start={from_}&end={to_}&appid={API_key}'\n",
    "    query = requests.get(urlz)\n",
    "    return urlz"
   ]
  },
  {
   "cell_type": "code",
   "execution_count": 55,
   "metadata": {},
   "outputs": [],
   "source": [
    "AIR_CHKER='eyJhbGciOiJIUzI1NiJ9.M2UyZTljNDAtYmI3Mi0xMWViLTg0M2EtNTkwZTMzMDcyYzM1.vonF6c38AVmcN0AN4LV8o_Q8flnX8EIELKsKmrVyBQ4'"
   ]
  },
  {
   "cell_type": "code",
   "execution_count": 72,
   "metadata": {},
   "outputs": [],
   "source": [
    "def get_histrocial_2(lat,lon,from_,to_):\n",
    "    headers = {'x-access-token': AIR_CHKER}\n",
    "    urlz = f'https://api.aircheckr.com/territory/location/{lat}/{lon}?date={from_}'\n",
    "    query = requests.get(urlz,headers=headers)\n",
    "    return query.json()"
   ]
  },
  {
   "cell_type": "code",
   "execution_count": 73,
   "metadata": {},
   "outputs": [],
   "source": [
    "fire_stats_2 = {}\n",
    "for i, row in x.iterrows():\n",
    "    stats = get_histrocial_2(row[' lat'], row[' lon'], row['date_start'], row[' date_end'])\n",
    "    fire_stats[row['name']] = stats"
   ]
  },
  {
   "cell_type": "code",
   "execution_count": 74,
   "metadata": {},
   "outputs": [
    {
     "data": {
      "text/plain": [
       "{}"
      ]
     },
     "execution_count": 74,
     "metadata": {},
     "output_type": "execute_result"
    }
   ],
   "source": [
    "fire_stats_2"
   ]
  },
  {
   "cell_type": "code",
   "execution_count": 32,
   "metadata": {},
   "outputs": [],
   "source": [
    "import datetime\n",
    "date_time_obj = datetime.datetime.strptime(\"2018-11-8\", '%Y-%m-%d') "
   ]
  },
  {
   "cell_type": "code",
   "execution_count": 33,
   "metadata": {},
   "outputs": [
    {
     "data": {
      "text/plain": [
       "datetime.datetime(2018, 11, 8, 0, 0)"
      ]
     },
     "execution_count": 33,
     "metadata": {},
     "output_type": "execute_result"
    }
   ],
   "source": [
    "date_time_obj"
   ]
  },
  {
   "cell_type": "code",
   "execution_count": null,
   "metadata": {},
   "outputs": [],
   "source": []
  },
  {
   "cell_type": "code",
   "execution_count": 60,
   "metadata": {},
   "outputs": [],
   "source": [
    "import pandas as pd\n",
    "x = pd.read_csv('all_wildfires.csv')"
   ]
  },
  {
   "cell_type": "code",
   "execution_count": 63,
   "metadata": {},
   "outputs": [],
   "source": [
    "fire_stats = {}\n",
    "for i, row in x.iterrows():\n",
    "    dict_tyepz = {}\n",
    "    for t in types:\n",
    "        stats = get_avgs(t, x['date_start'],x[' date_end'],x[' country'])\n",
    "    fire_stats[row['name']] = dict_tyepz"
   ]
  }
 ],
 "metadata": {
  "kernelspec": {
   "display_name": "Python 3",
   "language": "python",
   "name": "python3"
  },
  "language_info": {
   "codemirror_mode": {
    "name": "ipython",
    "version": 3
   },
   "file_extension": ".py",
   "mimetype": "text/x-python",
   "name": "python",
   "nbconvert_exporter": "python",
   "pygments_lexer": "ipython3",
   "version": "3.8.5"
  }
 },
 "nbformat": 4,
 "nbformat_minor": 4
}
